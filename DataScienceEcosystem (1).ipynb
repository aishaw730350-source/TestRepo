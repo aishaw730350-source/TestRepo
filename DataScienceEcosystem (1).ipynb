{
  "metadata": {
    "kernelspec": {
      "name": "python",
      "display_name": "Python (Pyodide)",
      "language": "python"
    },
    "language_info": {
      "codemirror_mode": {
        "name": "python",
        "version": 3
      },
      "file_extension": ".py",
      "mimetype": "text/x-python",
      "name": "python",
      "nbconvert_exporter": "python",
      "pygments_lexer": "ipython3",
      "version": "3.8"
    }
  },
  "nbformat_minor": 4,
  "nbformat": 4,
  "cells": [
    {
      "cell_type": "markdown",
      "source": "# Data ScienceTools and Ecosystem",
      "metadata": {}
    },
    {
      "cell_type": "raw",
      "source": "Some of the popular languages that Data Scientists use are:\n1. Python\n2. R\n3. SQL",
      "metadata": {}
    },
    {
      "cell_type": "markdown",
      "source": "## introduction\nIn this notebook Data Science Tools and Ecosystem are smmarized",
      "metadata": {}
    },
    {
      "cell_type": "markdown",
      "source": "**Objectives**\n* Python\n* SQL\n* R",
      "metadata": {}
    },
    {
      "cell_type": "markdown",
      "source": "## list Data Science language\nsome of the popular languages that Data Scientists use are\n1. Python\n2. R\n3. SQL\n\n\n\n",
      "metadata": {}
    },
    {
      "cell_type": "markdown",
      "source": "## list of libraries\nsome of the commonly used libraries used by Data Scientists are:\n1. Pandas\n2. Numpy\n3. Seaorn",
      "metadata": {}
    },
    {
      "cell_type": "markdown",
      "source": "## Table of Data Science\n| Data Science tools |\n |--------|\n | SQL |\n  | Numpy |\n | PyTorch |",
      "metadata": {}
    },
    {
      "cell_type": "markdown",
      "source": "### Below are the few examples of evaluating arthimetic expressions in Python",
      "metadata": {}
    },
    {
      "cell_type": "code",
      "source": "# This is the simple arthematic expression that multiply 3 and 4 then adds 5\n(3*4)+5",
      "metadata": {
        "trusted": true
      },
      "outputs": [
        {
          "execution_count": 4,
          "output_type": "execute_result",
          "data": {
            "text/plain": "17"
          },
          "metadata": {}
        }
      ],
      "execution_count": 4
    },
    {
      "cell_type": "code",
      "source": "# This will convert 200 minute to hours by dividing by 60\n200 / 60",
      "metadata": {
        "trusted": true
      },
      "outputs": [
        {
          "execution_count": 5,
          "output_type": "execute_result",
          "data": {
            "text/plain": "3.3333333333333335"
          },
          "metadata": {}
        }
      ],
      "execution_count": 5
    },
    {
      "cell_type": "markdown",
      "source": "## Author\nAyesha Waseem",
      "metadata": {}
    },
    {
      "cell_type": "markdown",
      "source": "",
      "metadata": {}
    }
  ]
}